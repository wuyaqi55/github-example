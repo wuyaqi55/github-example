{
 "cells": [
  {
   "cell_type": "markdown",
   "metadata": {},
   "source": [
    "<h1 align=center><font size = 5>Data Science Capstone Final Project: Start a new restaurant in Madison, WI</font></h1>"
   ]
  },
  {
   "cell_type": "markdown",
   "metadata": {},
   "source": [
    "## 1. Introduction\n",
    "\n",
    "### 1.1 Background\n",
    "Madison, the capital city of Wisconsin, lies west of Milwaukee. It’s known for the domed Wisconsin State Capitol, which sits on an isthmus between lakes Mendota and Monona. As of July 1, 2018, Madison's estimated population of 258,054 made it the second-largest city in Wisconsin by population, after Milwaukee, and the 81st-largest in the United States. Located on an isthmus and lands surrounding four lakes-Lake Mendota, Lake Monona, Lake Kegonsa and Lake Waubesa-the city is home to the University of Wisconsin–Madison, the Wisconsin State Capitol, Henry Vilas Zoo, lakes, and an extensive network of parks and bike trails. The presence of the University of Wisconsin–Madison (the largest employer in the state) as well as other educational institutions has a significant impact on the economy, culture, and demographics of Madison. Madison is a growing technology economy and the region is home to the headquarters of Epic Systems, American Family Insurance, Exact Sciences, Promega, American Girl, Sub-Zero, Lands' End, a regional office for Google, the University Research Park, as well as many biotech and health systems startups. So many education and science institutes and large companies in Madison, which means a hurge demand of food. Then, there is a good business chance to invest a restaurant here. \n",
    "\n",
    "### 1.2 Problem\n",
    "To invest a restaurant, we need to define the restaurants and its content, like what kind of restaurants to start. Also, the location of the restaurant is very important. In this project we will explore the restaurants at Madison, WI. area, and using current restaurants information to figure out what kind of restaurants to start and which locations is the good choice for him. \n",
    "\n",
    "### 1.3 Insterest\n",
    "As a restaurant invester who wants to start a restaurant in Madison, WI area, he/she would be insterets in what kind of restaurant he want to start and where to locate his restaurant. "
   ]
  },
  {
   "cell_type": "code",
   "execution_count": null,
   "metadata": {},
   "outputs": [],
   "source": []
  }
 ],
 "metadata": {
  "kernelspec": {
   "display_name": "Python",
   "language": "python",
   "name": "conda-env-python-py"
  },
  "language_info": {
   "codemirror_mode": {
    "name": "ipython",
    "version": 3
   },
   "file_extension": ".py",
   "mimetype": "text/x-python",
   "name": "python",
   "nbconvert_exporter": "python",
   "pygments_lexer": "ipython3",
   "version": "3.6.7"
  }
 },
 "nbformat": 4,
 "nbformat_minor": 4
}
